{
 "cells": [
  {
   "metadata": {
    "ExecuteTime": {
     "end_time": "2024-08-04T16:01:17.462370Z",
     "start_time": "2024-08-04T16:01:15.977924Z"
    }
   },
   "cell_type": "code",
   "source": [
    "import torch\n",
    "import torch.nn.functional as F\n",
    "import matplotlib.pyplot as plt # for making figures\n",
    "%matplotlib inline"
   ],
   "id": "ba65b56f5e81b00a",
   "outputs": [],
   "execution_count": 1
  },
  {
   "metadata": {
    "ExecuteTime": {
     "end_time": "2024-08-04T16:03:00.574381Z",
     "start_time": "2024-08-04T16:02:59.828552Z"
    }
   },
   "cell_type": "code",
   "source": [
    "# build the vocabulary of characters and mappings to/from integers\n",
    "words = open('names.txt', 'r').read().splitlines()\n",
    "\n",
    "chars = sorted(list(set(''.join(words))))\n",
    "stoi = {s:i+1 for i,s in enumerate(chars)}\n",
    "stoi['.'] = 0\n",
    "itos = {i:s for s,i in stoi.items()}\n",
    "print(itos)\n",
    "\n",
    "# build the dataset\n",
    "\n",
    "block_size = 3 # context length: how many characters do we take to predict the next one?\n",
    "X, Y = [], []\n",
    "for w in words:\n",
    "  \n",
    "  #print(w)\n",
    "  context = [0] * block_size\n",
    "  for ch in w + '.':\n",
    "    ix = stoi[ch]\n",
    "    X.append(context)\n",
    "    Y.append(ix)\n",
    "    #print(''.join(itos[i] for i in context), '--->', itos[ix])\n",
    "    context = context[1:] + [ix] # crop and append\n",
    "  \n",
    "X = torch.tensor(X)\n",
    "Y = torch.tensor(Y)\n",
    "\n",
    "\n",
    "block_size = 3 # context length: how many characters do we take to predict the next one?\n",
    "\n",
    "def build_dataset(words):  \n",
    "  X, Y = [], []\n",
    "  for w in words:\n",
    "\n",
    "    #print(w)\n",
    "    context = [0] * block_size\n",
    "    for ch in w + '.':\n",
    "      ix = stoi[ch]\n",
    "      X.append(context)\n",
    "      Y.append(ix)\n",
    "      #print(''.join(itos[i] for i in context), '--->', itos[ix])\n",
    "      context = context[1:] + [ix] # crop and append\n",
    "\n",
    "  X = torch.tensor(X)\n",
    "  Y = torch.tensor(Y)\n",
    "  print(X.shape, Y.shape)\n",
    "  return X, Y\n",
    "\n",
    "import random\n",
    "random.seed(42)\n",
    "random.shuffle(words)\n",
    "n1 = int(0.8*len(words))\n",
    "n2 = int(0.9*len(words))\n",
    "\n",
    "Xtr, Ytr = build_dataset(words[:n1])\n",
    "Xdev, Ydev = build_dataset(words[n1:n2])\n",
    "Xte, Yte = build_dataset(words[n2:])"
   ],
   "id": "967819a39b6d8ede",
   "outputs": [
    {
     "name": "stdout",
     "output_type": "stream",
     "text": [
      "{1: 'a', 2: 'b', 3: 'c', 4: 'd', 5: 'e', 6: 'f', 7: 'g', 8: 'h', 9: 'i', 10: 'j', 11: 'k', 12: 'l', 13: 'm', 14: 'n', 15: 'o', 16: 'p', 17: 'q', 18: 'r', 19: 's', 20: 't', 21: 'u', 22: 'v', 23: 'w', 24: 'x', 25: 'y', 26: 'z', 0: '.'}\n",
      "torch.Size([182625, 3]) torch.Size([182625])\n",
      "torch.Size([22655, 3]) torch.Size([22655])\n",
      "torch.Size([22866, 3]) torch.Size([22866])\n"
     ]
    }
   ],
   "execution_count": 4
  },
  {
   "metadata": {
    "ExecuteTime": {
     "end_time": "2024-08-04T16:49:58.041171Z",
     "start_time": "2024-08-04T16:49:58.028229Z"
    }
   },
   "cell_type": "code",
   "source": [
    "def train_model(embedding_size=10, neurons_amount=200, runtime=200000, minibatch_size=32, learning_decay_division=2):\n",
    "    g = torch.Generator().manual_seed(2147483647) # for reproducibility\n",
    "    C = torch.randn((27, embedding_size), generator=g)\n",
    "    W1 = torch.randn((block_size * embedding_size, neurons_amount), generator=g)\n",
    "    b1 = torch.randn(neurons_amount, generator=g)\n",
    "    W2 = torch.randn((neurons_amount, 27), generator=g)\n",
    "    b2 = torch.randn(27, generator=g)\n",
    "    parameters = [C, W1, b1, W2, b2]\n",
    "    for p in parameters:\n",
    "      p.requires_grad = True\n",
    "    \n",
    "    for i in range(runtime):\n",
    "      \n",
    "      # minibatch construct\n",
    "      ix = torch.randint(0, Xtr.shape[0], (minibatch_size,))\n",
    "      \n",
    "      # forward pass\n",
    "      emb = C[Xtr[ix]] # (32, 3, 10)\n",
    "      h = torch.tanh(emb.view(-1, block_size * embedding_size) @ W1 + b1) # (32, 200)\n",
    "      logits = h @ W2 + b2 # (32, 27)\n",
    "      loss = F.cross_entropy(logits, Ytr[ix])\n",
    "      #print(loss.item())\n",
    "      \n",
    "      # backward pass\n",
    "      for p in parameters:\n",
    "        p.grad = None\n",
    "      loss.backward()\n",
    "      \n",
    "      # update\n",
    "      #lr = lrs[i]\n",
    "      lr = 0.1 if i < (runtime / learning_decay_division) else 0.01\n",
    "      for p in parameters:\n",
    "        p.data += -lr * p.grad\n",
    "    \n",
    "      # track stats\n",
    "      #lri.append(lre[i])\n",
    "      #stepi.append(i)\n",
    "      #lossi.append(loss.log10().item())\n",
    "    \n",
    "    #print(loss.item())\n",
    "    \n",
    "    #Find Training set loss, and Dev Loss\n",
    "    emb = C[Xtr] # (32, 3, 2)\n",
    "    h = torch.tanh(emb.view(-1, block_size * embedding_size) @ W1 + b1) # (32, 100)\n",
    "    logits = h @ W2 + b2 # (32, 27)\n",
    "    trloss = F.cross_entropy(logits, Ytr)\n",
    "    #print(f\"Training loss is: {trloss}\")\n",
    "    \n",
    "    emb = C[Xdev] # (32, 3, 2)\n",
    "    h = torch.tanh(emb.view(-1, block_size * embedding_size) @ W1 + b1) # (32, 100)\n",
    "    logits = h @ W2 + b2 # (32, 27)\n",
    "    devloss = F.cross_entropy(logits, Ydev)\n",
    "    #print(f\"Dev loss is: {devloss}\")\n",
    "    return trloss, devloss"
   ],
   "id": "8423acbb88f44e43",
   "outputs": [],
   "execution_count": 16
  },
  {
   "metadata": {
    "ExecuteTime": {
     "end_time": "2024-08-04T16:13:47.687537Z",
     "start_time": "2024-08-04T16:13:03.285609Z"
    }
   },
   "cell_type": "code",
   "source": "train_model()",
   "id": "9ba6618fc200e450",
   "outputs": [
    {
     "name": "stdout",
     "output_type": "stream",
     "text": [
      "Training loss is: 2.115941047668457\n",
      "Dev loss is: 2.16377592086792\n"
     ]
    }
   ],
   "execution_count": 8
  },
  {
   "metadata": {
    "ExecuteTime": {
     "end_time": "2024-08-04T16:49:59.772778Z",
     "start_time": "2024-08-04T16:49:59.768838Z"
    }
   },
   "cell_type": "code",
   "source": [
    "def test_attribute(embedding_size=10, neurons_amount=200, runtime=200000, minibatch_size=32, learning_decay_division=2):\n",
    "    trlosses = []\n",
    "    devlosses = []\n",
    "    for i in range(5):\n",
    "        trloss, devloss = train_model(embedding_size, neurons_amount, runtime, minibatch_size, learning_decay_division)\n",
    "        trlosses.append(trloss.item())\n",
    "        devlosses.append(devloss.item())\n",
    "        \n",
    "    average_trloss = sum(trlosses) / len(trlosses) \n",
    "    average_devloss = sum(devlosses) / len(devlosses)\n",
    "    print(f\"Average Training loss is: {average_trloss}\")\n",
    "    print(f\"Average Dev loss is: {average_devloss}\")"
   ],
   "id": "4943812e4396c8d7",
   "outputs": [],
   "execution_count": 17
  },
  {
   "metadata": {
    "ExecuteTime": {
     "end_time": "2024-08-04T17:38:41.359767Z",
     "start_time": "2024-08-04T17:35:33.077316Z"
    }
   },
   "cell_type": "code",
   "source": "test_attribute()",
   "id": "2d3daec525ce1e48",
   "outputs": [
    {
     "name": "stdout",
     "output_type": "stream",
     "text": [
      "Average Training loss is: 2.1226444244384766\n",
      "Average Dev loss is: 2.1651772975921633\n"
     ]
    }
   ],
   "execution_count": 19
  },
  {
   "metadata": {
    "ExecuteTime": {
     "end_time": "2024-08-04T17:33:02.876831Z",
     "start_time": "2024-08-04T16:50:01.735475Z"
    }
   },
   "cell_type": "code",
   "source": [
    "print(\"Embedding Size of 20\")\n",
    "test_attribute(embedding_size=20)\n",
    "print(\"-=-=-=-=-=-=-=-=-=-\")\n",
    "\n",
    "print(\"Neurons amount of 300\")\n",
    "test_attribute(neurons_amount=300)\n",
    "print(\"-=-=-=-=-=-=-=-=-=-\")\n",
    "\n",
    "print(\"Runtime of 300.000\")\n",
    "test_attribute(runtime=300000)\n",
    "print(\"-=-=-=-=-=-=-=-=-=-\")\n",
    "\n",
    "print(\"Minibatch size of 50\")\n",
    "test_attribute(minibatch_size=50)\n",
    "print(\"-=-=-=-=-=-=-=-=-=-\")\n",
    "\n",
    "print(\"Runtime of 300.000 with /3 Learning Decay\")\n",
    "test_attribute(runtime=300000, learning_decay_division=3)\n",
    "print(\"-=-=-=-=-=-=-=-=-=-\")\n",
    "\n",
    "print(\"Embedding Size of 5 with 300 Neurons\")\n",
    "test_attribute(embedding_size=5, neurons_amount=300)\n",
    "print(\"-=-=-=-=-=-=-=-=-=-\")\n",
    "\n",
    "print(\"Embedding Size of 20 with 300 Neurons\")\n",
    "test_attribute(embedding_size=20, neurons_amount=300)"
   ],
   "id": "7cdc569884d25361",
   "outputs": [
    {
     "name": "stdout",
     "output_type": "stream",
     "text": [
      "Embedding Size of 20\n",
      "Average Training loss is: 2.0694377422332764\n",
      "Average Dev loss is: 2.1441296577453612\n",
      "-=-=-=-=-=-=-=-=-=-\n",
      "Neurons amount of 300\n",
      "Average Training loss is: 2.1129473209381104\n",
      "Average Dev loss is: 2.175904893875122\n",
      "-=-=-=-=-=-=-=-=-=-\n",
      "Runtime of 300.000\n",
      "Average Training loss is: 2.0991374015808106\n",
      "Average Dev loss is: 2.147870683670044\n",
      "-=-=-=-=-=-=-=-=-=-\n",
      "Minibatch size of 50\n",
      "Average Training loss is: 2.118647813796997\n",
      "Average Dev loss is: 2.1614403247833254\n",
      "-=-=-=-=-=-=-=-=-=-\n",
      "Runtime of 300.000 with /3 Learning Decay\n",
      "Average Training loss is: 2.1194077014923094\n",
      "Average Dev loss is: 2.161695051193237\n",
      "-=-=-=-=-=-=-=-=-=-\n",
      "Embedding Size of 5 with 300 Neurons\n",
      "Average Training loss is: 2.1654847145080565\n",
      "Average Dev loss is: 2.1876537799835205\n",
      "-=-=-=-=-=-=-=-=-=-\n",
      "Embedding Size of 20 with 300 Neurons\n",
      "Average Training loss is: 2.0419331073760985\n",
      "Average Dev loss is: 2.1453221321105955\n"
     ]
    }
   ],
   "execution_count": 18
  },
  {
   "metadata": {
    "ExecuteTime": {
     "end_time": "2024-08-05T15:30:58.804023Z",
     "start_time": "2024-08-05T14:33:21.793865Z"
    }
   },
   "cell_type": "code",
   "source": [
    "print(\"Embedding Size of 50\")\n",
    "test_attribute(embedding_size=50)\n",
    "print(\"-=-=-=-=-=-=-=-=-=-\")\n",
    "\n",
    "print(\"Neurons amount of 600\")\n",
    "test_attribute(neurons_amount=600)\n",
    "print(\"-=-=-=-=-=-=-=-=-=-\")\n",
    "\n",
    "print(\"Embedding Size of 100\")\n",
    "test_attribute(embedding_size=100)\n",
    "print(\"-=-=-=-=-=-=-=-=-=-\")\n",
    "\n",
    "print(\"Neurons amount of 1000\")\n",
    "test_attribute(neurons_amount=1000)\n",
    "print(\"-=-=-=-=-=-=-=-=-=-\")"
   ],
   "id": "3a2c45d1f273a569",
   "outputs": [
    {
     "name": "stdout",
     "output_type": "stream",
     "text": [
      "Embedding Size of 50\n",
      "Average Training loss is: 2.047200918197632\n",
      "Average Dev loss is: 2.140800142288208\n",
      "-=-=-=-=-=-=-=-=-=-\n",
      "Neurons amount of 600\n",
      "Average Training loss is: 2.120588445663452\n",
      "Average Dev loss is: 2.2023672103881835\n",
      "-=-=-=-=-=-=-=-=-=-\n",
      "Embedding Size of 100\n",
      "Average Training loss is: 2.0443153858184813\n",
      "Average Dev loss is: 2.1395382404327394\n",
      "-=-=-=-=-=-=-=-=-=-\n",
      "Neurons amount of 1000\n",
      "Average Training loss is: 2.105420637130737\n",
      "Average Dev loss is: 2.244928312301636\n",
      "-=-=-=-=-=-=-=-=-=-\n"
     ]
    }
   ],
   "execution_count": 20
  },
  {
   "metadata": {
    "jupyter": {
     "is_executing": true
    },
    "ExecuteTime": {
     "start_time": "2024-08-05T15:34:56.391412Z"
    }
   },
   "cell_type": "code",
   "source": [
    "print(\"Embedding size of 50, Runtime of 500000, Learning decay of /1.5\")\n",
    "test_attribute(embedding_size=50, runtime=500000, learning_decay_division=1.5)"
   ],
   "id": "24aa49848fcf8fe7",
   "outputs": [
    {
     "name": "stdout",
     "output_type": "stream",
     "text": [
      "Embedding size of 50, Runtime of 5000000, Learning decay of /1.5\n"
     ]
    }
   ],
   "execution_count": null
  },
  {
   "metadata": {},
   "cell_type": "code",
   "outputs": [],
   "execution_count": null,
   "source": "",
   "id": "d09cc01f8ae95592"
  }
 ],
 "metadata": {
  "kernelspec": {
   "display_name": "Python 3",
   "language": "python",
   "name": "python3"
  },
  "language_info": {
   "codemirror_mode": {
    "name": "ipython",
    "version": 2
   },
   "file_extension": ".py",
   "mimetype": "text/x-python",
   "name": "python",
   "nbconvert_exporter": "python",
   "pygments_lexer": "ipython2",
   "version": "2.7.6"
  }
 },
 "nbformat": 4,
 "nbformat_minor": 5
}
